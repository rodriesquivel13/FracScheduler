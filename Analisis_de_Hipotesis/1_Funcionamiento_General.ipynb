{
 "cells": [
  {
   "cell_type": "markdown",
   "id": "c839eecd",
   "metadata": {},
   "source": [
    "**Title**"
   ]
  },
  {
   "cell_type": "code",
   "execution_count": 2,
   "id": "9fcc194c",
   "metadata": {},
   "outputs": [],
   "source": [
    "import sys\n",
    "import os\n",
    "sys.path.append(os.path.abspath('..'))\n",
    "from utils import extra_week_indicator"
   ]
  },
  {
   "cell_type": "markdown",
   "id": "933b5ffa",
   "metadata": {},
   "source": []
  },
  {
   "cell_type": "code",
   "execution_count": 15,
   "id": "a5e68cde",
   "metadata": {},
   "outputs": [
    {
     "name": "stdout",
     "output_type": "stream",
     "text": [
      "1-2029\n",
      "2-2030\n",
      "3-2031\n",
      "1-2035\n",
      "2-2036\n",
      "3-2036\n",
      "1-2040\n",
      "2-2041\n",
      "3-2042\n",
      "1-2046\n",
      "2-2047\n",
      "3-2048\n"
     ]
    }
   ],
   "source": [
    "for i in range(2026,2051):\n",
    "    for day in range(1,4):\n",
    "        if extra_week_indicator(i,day):\n",
    "\n",
    "            print(f'{day}-{i}')"
   ]
  }
 ],
 "metadata": {
  "kernelspec": {
   "display_name": "base",
   "language": "python",
   "name": "python3"
  },
  "language_info": {
   "codemirror_mode": {
    "name": "ipython",
    "version": 3
   },
   "file_extension": ".py",
   "mimetype": "text/x-python",
   "name": "python",
   "nbconvert_exporter": "python",
   "pygments_lexer": "ipython3",
   "version": "3.11.5"
  }
 },
 "nbformat": 4,
 "nbformat_minor": 5
}
